{
 "cells": [
  {
   "cell_type": "markdown",
   "metadata": {},
   "source": [
    "# Multi-Model Training and Comparison"
   ]
  },
  {
   "cell_type": "markdown",
   "metadata": {},
   "source": [
    "## 1. Import Dependencies"
   ]
  },
  {
   "cell_type": "code",
   "execution_count": null,
   "metadata": {},
   "outputs": [],
   "source": [
    "import joblib\n",
    "import warnings\n",
    "import numpy as np\n",
    "import pandas as pd\n",
    "import seaborn as sns\n",
    "import matplotlib.pyplot as plt\n",
    "from sklearn.ensemble import RandomForestClassifier\n",
    "from sklearn.linear_model import LogisticRegression\n",
    "from sklearn.tree import DecisionTreeClassifier\n",
    "from sklearn.model_selection import StratifiedKFold, cross_validate\n",
    "from sklearn.metrics import confusion_matrix, f1_score\n",
    "\n",
    "warnings.filterwarnings('ignore')"
   ]
  },
  {
   "cell_type": "markdown",
   "metadata": {},
   "source": [
    "## 2. Load Processed Data"
   ]
  },
  {
   "cell_type": "code",
   "execution_count": null,
   "metadata": {},
   "outputs": [],
   "source": [
    "X_train = np.load('artifacts/X_train.npz')['arr_0']\n",
    "Y_train = np.load('artifacts/Y_train.npz')['arr_0']\n",
    "X_test = np.load('artifacts/X_test.npz')['arr_0']\n",
    "Y_test = np.load('artifacts/Y_test.npz')['arr_0']\n",
    "\n",
    "print(\"Data loaded successfully from artifacts.\")"
   ]
  },
  {
   "cell_type": "markdown",
   "metadata": {},
   "source": [
    "## 3. Define Models and Cross-Validation Strategy"
   ]
  },
  {
   "cell_type": "code",
   "execution_count": null,
   "metadata": {},
   "outputs": [],
   "source": [
    "models = {\n",
    "    'Logistic Regression': LogisticRegression(max_iter=1000, random_state=42),\n",
    "    'Decision Tree': DecisionTreeClassifier(random_state=42),\n",
    "    'Random Forest': RandomForestClassifier(random_state=42)\n",
    "}\n",
    "\n",
    "cv = StratifiedKFold(\n",
    "    n_splits=6,\n",
    "    random_state=42,\n",
    "    shuffle=True\n",
    ")"
   ]
  },
  {
   "cell_type": "markdown",
   "metadata": {},
   "source": [
    "## 4. Train and Evaluate Models using Cross-Validation"
   ]
  },
  {
   "cell_type": "markdown",
   "metadata": {},
   "source": [
    "We will train each model using cross-validation and select the best estimator based on the F1 score."
   ]
  },
  {
   "cell_type": "code",
   "execution_count": null,
   "metadata": {},
   "outputs": [],
   "source": [
    "trained_models = {}\n",
    "cv_f1_scores = {}\n",
    "\n",
    "for model_name, model in models.items():\n",
    "    print(f\"--- Training {model_name} ---\")\n",
    "    \n",
    "    cv_results = cross_validate(\n",
    "        model,\n",
    "        X_train,\n",
    "        Y_train,\n",
    "        cv=cv,\n",
    "        scoring='f1',\n",
    "        return_estimator=True,\n",
    "        return_train_score=False\n",
    "    )\n",
    "    \n",
    "    # Get the F1 scores and find the best estimator\n",
    "    test_scores = cv_results['test_score']\n",
    "    best_index = np.argmax(test_scores)\n",
    "    best_estimator = cv_results['estimator'][best_index]\n",
    "    \n",
    "    trained_models[model_name] = best_estimator\n",
    "    cv_f1_scores[model_name] = np.mean(test_scores)\n",
    "    \n",
    "    print(f\"Average F1 Score: {np.mean(test_scores):.4f}\")\n",
    "    print(f\"Best estimator from fold {best_index + 1} selected.\")\n",
    "\n",
    "print(\"\\nAll models trained successfully.\")"
   ]
  },
  {
   "cell_type": "markdown",
   "metadata": {},
   "source": [
    "## 5. Compare Model Performance on Test Set"
   ]
  },
  {
   "cell_type": "code",
   "execution_count": null,
   "metadata": {},
   "outputs": [],
   "source": [
    "Y_hat_tests = {}\n",
    "test_f1_scores = {}\n",
    "\n",
    "for model_name, model in trained_models.items():\n",
    "    Y_hat_test = model.predict(X_test)\n",
    "    Y_hat_tests[model_name] = Y_hat_test\n",
    "    test_f1_scores[model_name] = f1_score(Y_test, Y_hat_test)\n",
    "\n",
    "print(\"--- F1 Scores on Test Set ---\")\n",
    "for model_name, score in test_f1_scores.items():\n",
    "    print(f\"{model_name}: {score:.4f}\")"
   ]
  },
  {
   "cell_type": "markdown",
   "metadata": {},
   "source": [
    "## 6. Visualize Confusion Matrices"
   ]
  },
  {
   "cell_type": "code",
   "execution_count": null,
   "metadata": {},
   "outputs": [],
   "source": [
    "fig, axes = plt.subplots(1, 3, figsize=(24, 7))\n",
    "\n",
    "for ax, model_name in zip(axes, models.keys()):\n",
    "    cm = confusion_matrix(Y_test, Y_hat_tests[model_name])\n",
    "    sns.heatmap(cm, annot=True, fmt='d', cmap='Blues', ax=ax,\n",
    "                xticklabels=['Not Churned', 'Churned'],\n",
    "                yticklabels=['Not Churned', 'Churned'])\n",
    "    ax.set_xlabel('Predicted Label')\n",
    "    ax.set_ylabel('Actual Label')\n",
    "    ax.set_title(f'Confusion Matrix: {model_name}')\n",
    "\n",
    "plt.tight_layout()\n",
    "plt.show()"
   ]
  },
  {
   "cell_type": "markdown",
   "metadata": {},
   "source": [
    "## 7. Save the Best Model"
   ]
  },
  {
   "cell_type": "code",
   "execution_count": null,
   "metadata": {},
   "outputs": [],
   "source": [
    "best_model_name = max(test_f1_scores, key=test_f1_scores.get)\n",
    "best_model = trained_models[best_model_name]\n",
    "\n",
    "joblib.dump(best_model, 'model/best_model.pkl')\n",
    "\n",
    "print(f\"Best performing model ('{best_model_name}') saved to 'model/best_model.pkl'.\")"
   ]
  }
 ],
 "metadata": {
  "kernelspec": {
   "display_name": "Python 3",
   "language": "python",
   "name": "python3"
  },
  "language_info": {
   "codemirror_mode": {
    "name": "ipython",
    "version": 3
   },
   "file_extension": ".py",
   "mimetype": "text/x-python",
   "name": "python",
   "nbconvert_exporter": "python",
   "pygments_lexer": "ipython3",
   "version": "3.9.7"
  }
 },
 "nbformat": 4,
 "nbformat_minor": 4
}
