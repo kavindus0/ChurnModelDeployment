{
    "cells": [
        {
            "cell_type": "markdown",
            "metadata": {},
            "source": [
                "# import dependancies"
            ]
        },
        {
            "cell_type": "code",
            "execution_count": 10,
            "metadata": {},
            "outputs": [],
            "source": [
                "import numpy as np\n",
                "import pandas as pd\n",
                "from sklearn.pipeline import Pipeline\n",
                "from sklearn.compose import ColumnTransformer\n",
                "from sklearn.model_selection import train_test_split\n",
                "from sklearn.impute import SimpleImputer\n",
                "from sklearn.preprocessing import OneHotEncoder, OrdinalEncoder, StandardScaler\n"
            ]
        },
        {
            "cell_type": "code",
            "execution_count": 11,
            "metadata": {},
            "outputs": [
                {
                    "data": {
                        "text/plain": [
                            "Index(['Geography', 'Gender', 'Age', 'Tenure', 'Balance', 'NumOfProducts',\n",
                            "       'HasCrCard', 'IsActiveMember', 'EstimatedSalary', 'Exited',\n",
                            "       'CreditScoreBins'],\n",
                            "      dtype='object')"
                        ]
                    },
                    "execution_count": 11,
                    "metadata": {},
                    "output_type": "execute_result"
                }
            ],
            "source": [
                "df = pd.read_csv('data/dataset.csv')\n",
                "df.columns"
            ]
        },
        {
            "cell_type": "code",
            "execution_count": 12,
            "metadata": {},
            "outputs": [],
            "source": [
                "remainder_features = ['NumOfProducts','HasCrCard','IsActiveMember']\n",
                "numerical_features=['Age','Tenure','Balance','EstimatedSalary']\n",
                "nominal_features = ['Gender','Geography']\n",
                "ordinal_features = ['CreditScoreBins']"
            ]
        },
        {
            "cell_type": "code",
            "execution_count": 13,
            "metadata": {},
            "outputs": [],
            "source": [
                "numerical_transformer = Pipeline(\n",
                "    steps=[\n",
                "        ('imputer',SimpleImputer(strategy='median')),\n",
                "        ('scaler',StandardScaler())\n",
                "    ]\n",
                ")"
            ]
        },
        {
            "cell_type": "code",
            "execution_count": 14,
            "metadata": {},
            "outputs": [],
            "source": [
                "nominal_transformer = Pipeline(\n",
                "    steps=[\n",
                "        ('imputer',SimpleImputer(strategy='constant',\n",
                "        fill_value='missing')),\n",
                "        ('encoder',OneHotEncoder())\n",
                "    ]\n",
                ")"
            ]
        },
        {
            "cell_type": "code",
            "execution_count": 15,
            "metadata": {},
            "outputs": [],
            "source": [
                "ordinal_transformer = Pipeline(\n",
                "    steps=[\n",
                "        ('imputer',SimpleImputer(strategy='constant',\n",
                "        fill_value='missing')),\n",
                "        ('encoder',OrdinalEncoder())\n",
                "    ]\n",
                ")"
            ]
        },
        {
            "cell_type": "code",
            "execution_count": 16,
            "metadata": {},
            "outputs": [
                {
                    "data": {
                        "text/plain": [
                            "Index(['Age', 'Tenure', 'Balance', 'EstimatedSalary', 'Gender_Female',\n",
                            "       'Gender_Male', 'Geography_France', 'Geography_Spain',\n",
                            "       'Geography_Germany', 'CreditScoreBins'],\n",
                            "      dtype='object')"
                        ]
                    },
                    "execution_count": 16,
                    "metadata": {},
                    "output_type": "execute_result"
                }
            ],
            "source": [
                "preprocessor = ColumnTransformer(\n",
                "    transformers=[\n",
                "        ('num',numerical_transformer,numerical_features),\n",
                "        ('nom',nominal_transformer,nominal_features),\n",
                "        ('ord',ordinal_transformer,ordinal_features),\n",
                "    ],\n",
                "    remainder='drop'\n",
                ")\n",
                "\n",
                "\n",
                "nominal_feature_name = []\n",
                "\n",
                "for feature in nominal_features:\n",
                "    unique_values = df[feature].unique()\n",
                "    nominal_feature_name.extend([f\"{feature}_{val}\" for val in unique_values])\n",
                "\n",
                "df_cp = df.copy()\n",
                "\n",
                "df_transformed = pd.DataFrame(\n",
                "    preprocessor.fit_transform(df_cp),\n",
                "    columns=numerical_features+nominal_feature_name+ordinal_features\n",
                ")\n",
                "\n",
                "df_transformed.columns\n",
                "\n",
                "\n",
                "\n"
            ]
        },
        {
            "cell_type": "code",
            "execution_count": null,
            "metadata": {},
            "outputs": [],
            "source": []
        }
    ],
    "metadata": {
        "kernelspec": {
            "display_name": ".venv",
            "language": "python",
            "name": "python3"
        },
        "language_info": {
            "codemirror_mode": {
                "name": "ipython",
                "version": 3
            },
            "file_extension": ".py",
            "mimetype": "text/x-python",
            "name": "python",
            "nbconvert_exporter": "python",
            "pygments_lexer": "ipython3",
            "version": "3.11.9"
        }
    },
    "nbformat": 4,
    "nbformat_minor": 2
}
