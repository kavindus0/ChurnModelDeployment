{
    "cells": [
        {
            "cell_type": "markdown",
            "metadata": {},
            "source": [
                "# import dependancies"
            ]
        },
        {
            "cell_type": "code",
            "execution_count": 89,
            "metadata": {},
            "outputs": [],
            "source": [
                "import numpy as np\n",
                "import pandas as pd\n",
                "from sklearn.pipeline import Pipeline\n",
                "from sklearn.compose import ColumnTransformer\n",
                "from sklearn.model_selection import train_test_split\n",
                "from sklearn.impute import SimpleImputer\n",
                "from sklearn.preprocessing import OneHotEncoder, OrdinalEncoder, StandardScaler\n"
            ]
        },
        {
            "cell_type": "code",
            "execution_count": 90,
            "metadata": {},
            "outputs": [
                {
                    "data": {
                        "text/plain": [
                            "Index(['Geography', 'Gender', 'Age', 'Tenure', 'Balance', 'NumOfProducts',\n",
                            "       'HasCrCard', 'IsActiveMember', 'EstimatedSalary', 'Exited',\n",
                            "       'CreditScoreBins'],\n",
                            "      dtype='object')"
                        ]
                    },
                    "execution_count": 90,
                    "metadata": {},
                    "output_type": "execute_result"
                }
            ],
            "source": [
                "df = pd.read_csv('data/dataset.csv')\n",
                "df.columns"
            ]
        },
        {
            "cell_type": "code",
            "execution_count": 91,
            "metadata": {},
            "outputs": [],
            "source": [
                "remainder_features = ['NumOfProducts','HasCrCard','IsActiveMember']\n",
                "numerical_features=['Age','Tenure','Balance','EstimatedSalary']\n",
                "nominal_features = ['Gender','Geography']\n",
                "ordinal_features = ['CreditScoreBins']"
            ]
        },
        {
            "cell_type": "code",
            "execution_count": 92,
            "metadata": {},
            "outputs": [],
            "source": [
                "numerical_transformer = Pipeline(\n",
                "    steps=[\n",
                "        ('imputer',SimpleImputer(strategy='median')),\n",
                "        ('scaler',StandardScaler())\n",
                "    ]\n",
                ")"
            ]
        },
        {
            "cell_type": "code",
            "execution_count": 93,
            "metadata": {},
            "outputs": [],
            "source": [
                "nominal_transformer = Pipeline(\n",
                "    steps=[\n",
                "        ('imputer',SimpleImputer(strategy='constant',\n",
                "        fill_value='missing')),\n",
                "        ('encoder',OneHotEncoder())\n",
                "    ]\n",
                ")"
            ]
        },
        {
            "cell_type": "code",
            "execution_count": 94,
            "metadata": {},
            "outputs": [],
            "source": [
                "ordinal_transformer = Pipeline(\n",
                "    steps=[\n",
                "        ('imputer',SimpleImputer(strategy='constant',\n",
                "        fill_value='missing')),\n",
                "        ('encoder',OrdinalEncoder())\n",
                "    ]\n",
                ")"
            ]
        },
        {
            "cell_type": "code",
            "execution_count": 95,
            "metadata": {},
            "outputs": [],
            "source": [
                "preprocessor = ColumnTransformer(\n",
                "    transformers=[\n",
                "        ('num',numerical_transformer,numerical_features),\n",
                "        ('nom',nominal_transformer,nominal_features),\n",
                "        ('ord',ordinal_transformer,ordinal_features),\n",
                "    ],\n",
                "    remainder='drop'\n",
                ")\n",
                "\n",
                "\n",
                "\n"
            ]
        },
        {
            "cell_type": "code",
            "execution_count": 96,
            "metadata": {},
            "outputs": [],
            "source": [
                "nominal_feature_name = []\n",
                "\n",
                "for feature in nominal_features:\n",
                "    unique_values = df[feature].unique()\n",
                "    nominal_feature_name.extend([f\"{feature}_{val}\" for val in unique_values])\n",
                "\n",
                "\n",
                "\n",
                "\n"
            ]
        },
        {
            "cell_type": "code",
            "execution_count": 97,
            "metadata": {},
            "outputs": [],
            "source": [
                "df_cp = df.copy()\n"
            ]
        },
        {
            "cell_type": "code",
            "execution_count": 98,
            "metadata": {},
            "outputs": [
                {
                    "ename": "TypeError",
                    "evalue": "'module' object is not subscriptable",
                    "output_type": "error",
                    "traceback": [
                        "\u001b[31m---------------------------------------------------------------------------\u001b[39m",
                        "\u001b[31mTypeError\u001b[39m                                 Traceback (most recent call last)",
                        "\u001b[36mCell\u001b[39m\u001b[36m \u001b[39m\u001b[32mIn[98]\u001b[39m\u001b[32m, line 6\u001b[39m\n\u001b[32m      1\u001b[39m df_transformed = pd.DataFrame(\n\u001b[32m      2\u001b[39m     preprocessor.fit_transform(df_cp),\n\u001b[32m      3\u001b[39m     columns=numerical_features+nominal_feature_name+ordinal_features\n\u001b[32m      4\u001b[39m )\n\u001b[32m----> \u001b[39m\u001b[32m6\u001b[39m df_remainder = \u001b[43mpd\u001b[49m\u001b[43m[\u001b[49m\u001b[43mremainder_features\u001b[49m\u001b[43m]\u001b[49m\n\u001b[32m      9\u001b[39m df_final = pd.concat(\n\u001b[32m     10\u001b[39m     [df_transformed,df_remainder],\n\u001b[32m     11\u001b[39m     axis=\u001b[32m1\u001b[39m\n\u001b[32m     12\u001b[39m )\n",
                        "\u001b[31mTypeError\u001b[39m: 'module' object is not subscriptable"
                    ]
                }
            ],
            "source": [
                "df_transformed = pd.DataFrame(\n",
                "    preprocessor.fit_transform(df_cp),\n",
                "    columns=numerical_features+nominal_feature_name+ordinal_features\n",
                ")\n",
                "\n",
                "df_remainder = pd[remainder_features]\n",
                "\n",
                "\n",
                "df_final = pd.concat(\n",
                "    [df_transformed,df_remainder],\n",
                "    axis=1\n",
                ")\n"
            ]
        }
    ],
    "metadata": {
        "kernelspec": {
            "display_name": ".venv",
            "language": "python",
            "name": "python3"
        },
        "language_info": {
            "codemirror_mode": {
                "name": "ipython",
                "version": 3
            },
            "file_extension": ".py",
            "mimetype": "text/x-python",
            "name": "python",
            "nbconvert_exporter": "python",
            "pygments_lexer": "ipython3",
            "version": "3.11.9"
        }
    },
    "nbformat": 4,
    "nbformat_minor": 2
}
