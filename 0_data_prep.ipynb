{
    "cells": [
        {
            "cell_type": "markdown",
            "metadata": {},
            "source": [
                "# import dependancies"
            ]
        },
        {
            "cell_type": "code",
            "execution_count": 264,
            "metadata": {},
            "outputs": [],
            "source": [
                "import numpy as np\n",
                "import pandas as pd\n",
                "from matplotlib import pyplot as plt\n",
                "from sklearn.pipeline import Pipeline\n",
                "from imblearn.over_sampling import SMOTE\n",
                "from sklearn.compose import ColumnTransformer\n",
                "from sklearn.model_selection import train_test_split\n",
                "from sklearn.impute import SimpleImputer\n",
                "from sklearn.preprocessing import OneHotEncoder, OrdinalEncoder, StandardScaler\n"
            ]
        },
        {
            "cell_type": "code",
            "execution_count": 265,
            "metadata": {},
            "outputs": [
                {
                    "data": {
                        "text/plain": [
                            "Index(['Geography', 'Gender', 'Age', 'Tenure', 'Balance', 'NumOfProducts',\n",
                            "       'HasCrCard', 'IsActiveMember', 'EstimatedSalary', 'Exited',\n",
                            "       'CreditScoreBins'],\n",
                            "      dtype='object')"
                        ]
                    },
                    "execution_count": 265,
                    "metadata": {},
                    "output_type": "execute_result"
                }
            ],
            "source": [
                "df = pd.read_csv('data/raw/dataset.csv')\n",
                "df.columns"
            ]
        },
        {
            "cell_type": "code",
            "execution_count": 266,
            "metadata": {},
            "outputs": [],
            "source": [
                "remainder_features = ['NumOfProducts','HasCrCard','IsActiveMember']\n",
                "numerical_features=['Age','Tenure','Balance','EstimatedSalary']\n",
                "nominal_features = ['Gender','Geography']\n",
                "ordinal_features = ['CreditScoreBins']"
            ]
        },
        {
            "cell_type": "code",
            "execution_count": 267,
            "metadata": {},
            "outputs": [],
            "source": [
                "numerical_transformer = Pipeline(\n",
                "    steps=[\n",
                "        ('imputer',SimpleImputer(strategy='median')),\n",
                "        ('scaler',StandardScaler())\n",
                "    ]\n",
                ")"
            ]
        },
        {
            "cell_type": "code",
            "execution_count": 268,
            "metadata": {},
            "outputs": [],
            "source": [
                "nominal_transformer = Pipeline(\n",
                "    steps=[\n",
                "        ('imputer',SimpleImputer(strategy='constant',\n",
                "        fill_value='missing')),\n",
                "        ('encoder',OneHotEncoder())\n",
                "    ]\n",
                ")"
            ]
        },
        {
            "cell_type": "code",
            "execution_count": 269,
            "metadata": {},
            "outputs": [],
            "source": [
                "ordinal_transformer = Pipeline(\n",
                "    steps=[\n",
                "        ('imputer',SimpleImputer(strategy='constant',\n",
                "        fill_value='missing')),\n",
                "        ('encoder',OrdinalEncoder())\n",
                "    ]\n",
                ")"
            ]
        },
        {
            "cell_type": "code",
            "execution_count": 270,
            "metadata": {},
            "outputs": [],
            "source": [
                "preprocessor = ColumnTransformer(\n",
                "    transformers=[\n",
                "        ('num',numerical_transformer,numerical_features),\n",
                "        ('nom',nominal_transformer,nominal_features),\n",
                "        ('ord',ordinal_transformer,ordinal_features),\n",
                "    ],\n",
                "    remainder='drop'\n",
                ")\n",
                "\n",
                "\n",
                "\n"
            ]
        },
        {
            "cell_type": "code",
            "execution_count": 271,
            "metadata": {},
            "outputs": [],
            "source": [
                "nominal_feature_name = []\n",
                "\n",
                "for feature in nominal_features:\n",
                "    unique_values = df[feature].unique()\n",
                "    nominal_feature_name.extend([f\"{feature}_{val}\" for val in unique_values])\n",
                "\n",
                "\n",
                "\n",
                "\n"
            ]
        },
        {
            "cell_type": "code",
            "execution_count": 272,
            "metadata": {},
            "outputs": [],
            "source": [
                "df_cp = df.copy()\n"
            ]
        },
        {
            "cell_type": "code",
            "execution_count": 273,
            "metadata": {},
            "outputs": [
                {
                    "data": {
                        "text/html": [
                            "<div>\n",
                            "<style scoped>\n",
                            "    .dataframe tbody tr th:only-of-type {\n",
                            "        vertical-align: middle;\n",
                            "    }\n",
                            "\n",
                            "    .dataframe tbody tr th {\n",
                            "        vertical-align: top;\n",
                            "    }\n",
                            "\n",
                            "    .dataframe thead th {\n",
                            "        text-align: right;\n",
                            "    }\n",
                            "</style>\n",
                            "<table border=\"1\" class=\"dataframe\">\n",
                            "  <thead>\n",
                            "    <tr style=\"text-align: right;\">\n",
                            "      <th></th>\n",
                            "      <th>Age</th>\n",
                            "      <th>Tenure</th>\n",
                            "      <th>Balance</th>\n",
                            "      <th>EstimatedSalary</th>\n",
                            "      <th>Gender_Female</th>\n",
                            "      <th>Gender_Male</th>\n",
                            "      <th>Geography_France</th>\n",
                            "      <th>Geography_Spain</th>\n",
                            "      <th>Geography_Germany</th>\n",
                            "      <th>CreditScoreBins</th>\n",
                            "      <th>NumOfProducts</th>\n",
                            "      <th>HasCrCard</th>\n",
                            "      <th>IsActiveMember</th>\n",
                            "      <th>Exited</th>\n",
                            "    </tr>\n",
                            "  </thead>\n",
                            "  <tbody>\n",
                            "    <tr>\n",
                            "      <th>0</th>\n",
                            "      <td>0.428433</td>\n",
                            "      <td>-1.041526</td>\n",
                            "      <td>-1.225704</td>\n",
                            "      <td>0.021852</td>\n",
                            "      <td>1.0</td>\n",
                            "      <td>0.0</td>\n",
                            "      <td>1.0</td>\n",
                            "      <td>0.0</td>\n",
                            "      <td>0.0</td>\n",
                            "      <td>1.0</td>\n",
                            "      <td>1</td>\n",
                            "      <td>1</td>\n",
                            "      <td>1</td>\n",
                            "      <td>1</td>\n",
                            "    </tr>\n",
                            "    <tr>\n",
                            "      <th>1</th>\n",
                            "      <td>0.332317</td>\n",
                            "      <td>-1.387294</td>\n",
                            "      <td>0.117331</td>\n",
                            "      <td>0.216474</td>\n",
                            "      <td>1.0</td>\n",
                            "      <td>0.0</td>\n",
                            "      <td>0.0</td>\n",
                            "      <td>0.0</td>\n",
                            "      <td>1.0</td>\n",
                            "      <td>1.0</td>\n",
                            "      <td>1</td>\n",
                            "      <td>0</td>\n",
                            "      <td>1</td>\n",
                            "      <td>0</td>\n",
                            "    </tr>\n",
                            "    <tr>\n",
                            "      <th>2</th>\n",
                            "      <td>0.428433</td>\n",
                            "      <td>1.033083</td>\n",
                            "      <td>1.332886</td>\n",
                            "      <td>0.240624</td>\n",
                            "      <td>1.0</td>\n",
                            "      <td>0.0</td>\n",
                            "      <td>1.0</td>\n",
                            "      <td>0.0</td>\n",
                            "      <td>0.0</td>\n",
                            "      <td>3.0</td>\n",
                            "      <td>3</td>\n",
                            "      <td>1</td>\n",
                            "      <td>0</td>\n",
                            "      <td>1</td>\n",
                            "    </tr>\n",
                            "    <tr>\n",
                            "      <th>3</th>\n",
                            "      <td>0.124038</td>\n",
                            "      <td>-1.387294</td>\n",
                            "      <td>-1.225704</td>\n",
                            "      <td>-0.108935</td>\n",
                            "      <td>1.0</td>\n",
                            "      <td>0.0</td>\n",
                            "      <td>1.0</td>\n",
                            "      <td>0.0</td>\n",
                            "      <td>0.0</td>\n",
                            "      <td>2.0</td>\n",
                            "      <td>2</td>\n",
                            "      <td>0</td>\n",
                            "      <td>0</td>\n",
                            "      <td>0</td>\n",
                            "    </tr>\n",
                            "    <tr>\n",
                            "      <th>4</th>\n",
                            "      <td>0.522339</td>\n",
                            "      <td>-1.041526</td>\n",
                            "      <td>0.785627</td>\n",
                            "      <td>-0.365260</td>\n",
                            "      <td>1.0</td>\n",
                            "      <td>0.0</td>\n",
                            "      <td>0.0</td>\n",
                            "      <td>0.0</td>\n",
                            "      <td>1.0</td>\n",
                            "      <td>0.0</td>\n",
                            "      <td>1</td>\n",
                            "      <td>1</td>\n",
                            "      <td>1</td>\n",
                            "      <td>0</td>\n",
                            "    </tr>\n",
                            "  </tbody>\n",
                            "</table>\n",
                            "</div>"
                        ],
                        "text/plain": [
                            "        Age    Tenure   Balance  EstimatedSalary  Gender_Female  Gender_Male  \\\n",
                            "0  0.428433 -1.041526 -1.225704         0.021852            1.0          0.0   \n",
                            "1  0.332317 -1.387294  0.117331         0.216474            1.0          0.0   \n",
                            "2  0.428433  1.033083  1.332886         0.240624            1.0          0.0   \n",
                            "3  0.124038 -1.387294 -1.225704        -0.108935            1.0          0.0   \n",
                            "4  0.522339 -1.041526  0.785627        -0.365260            1.0          0.0   \n",
                            "\n",
                            "   Geography_France  Geography_Spain  Geography_Germany  CreditScoreBins  \\\n",
                            "0               1.0              0.0                0.0              1.0   \n",
                            "1               0.0              0.0                1.0              1.0   \n",
                            "2               1.0              0.0                0.0              3.0   \n",
                            "3               1.0              0.0                0.0              2.0   \n",
                            "4               0.0              0.0                1.0              0.0   \n",
                            "\n",
                            "   NumOfProducts  HasCrCard  IsActiveMember  Exited  \n",
                            "0              1          1               1       1  \n",
                            "1              1          0               1       0  \n",
                            "2              3          1               0       1  \n",
                            "3              2          0               0       0  \n",
                            "4              1          1               1       0  "
                        ]
                    },
                    "execution_count": 273,
                    "metadata": {},
                    "output_type": "execute_result"
                }
            ],
            "source": [
                "df_transformed = pd.DataFrame(\n",
                "    preprocessor.fit_transform(df_cp),\n",
                "    columns=numerical_features+nominal_feature_name+ordinal_features\n",
                ")\n",
                "\n",
                "df_remainder = df[remainder_features]\n",
                "\n",
                "\n",
                "df_final = pd.concat(\n",
                "    [df_transformed,df_remainder,df_cp.Exited],\n",
                "    axis=1\n",
                ")\n",
                "\n",
                "df_final.head()\n",
                "\n"
            ]
        },
        {
            "cell_type": "code",
            "execution_count": 274,
            "metadata": {},
            "outputs": [],
            "source": [
                "df_final.to_csv('data/processed/x_transformed.csv')"
            ]
        },
        {
            "cell_type": "markdown",
            "metadata": {},
            "source": [
                "## Handle Class Imbalance"
            ]
        },
        {
            "cell_type": "markdown",
            "metadata": {},
            "source": [
                "1st split data, then make inbalance."
            ]
        },
        {
            "cell_type": "code",
            "execution_count": 275,
            "metadata": {},
            "outputs": [],
            "source": [
                "X = df_final.drop(columns=['Exited'])\n",
                "Y = df_final['Exited']"
            ]
        },
        {
            "cell_type": "code",
            "execution_count": 276,
            "metadata": {},
            "outputs": [],
            "source": [
                "X_train, X_test, Y_train, Y_test = train_test_split(X, Y, test_size=0.2, random_state=42)"
            ]
        },
        {
            "cell_type": "code",
            "execution_count": 277,
            "metadata": {},
            "outputs": [
                {
                    "name": "stdout",
                    "output_type": "stream",
                    "text": [
                        "Original class distribution:\n",
                        "Exited\n",
                        "0    6334\n",
                        "1    1660\n",
                        "Name: count, dtype: int64\n",
                        "\n",
                        "Resampled class distribution:\n",
                        "0    6334\n",
                        "1    6334\n",
                        "Name: count, dtype: int64\n"
                    ]
                }
            ],
            "source": [
                "# Convert to numpy arrays to avoid pandas compatibility issues\n",
                "# Check class distribution before SMOTE\n",
                "print(\"Original class distribution:\")\n",
                "print(Y_train.value_counts())\n",
                "\n",
                "# Convert to numpy arrays for SMOTE compatibility\n",
                "X_train_array = X_train.values\n",
                "Y_train_array = Y_train.values\n",
                "\n",
                "# Apply SMOTE\n",
                "smote = SMOTE(random_state=42)\n",
                "X_train_resampled, Y_train_resampled = smote.fit_resample(X_train_array, Y_train_array)\n",
                "\n",
                "print(\"\\nResampled class distribution:\")\n",
                "print(pd.Series(Y_train_resampled).value_counts())"
            ]
        },
        {
            "cell_type": "code",
            "execution_count": 278,
            "metadata": {},
            "outputs": [
                {
                    "data": {
                        "text/plain": [
                            "Text(0.5, 1.0, 'TEST SET')"
                        ]
                    },
                    "execution_count": 278,
                    "metadata": {},
                    "output_type": "execute_result"
                },
                {
                    "data": {
                        "image/png": "[encoded data removed]",
                        "text/plain": [
                            "<Figure size 1500x400 with 3 Axes>"
                        ]
                    },
                    "metadata": {},
                    "output_type": "display_data"
                }
            ],
            "source": [
                "plt.figure(figsize=(15,4))\n",
                "\n",
                "plt.subplot(131)\n",
                "Y_train.value_counts().plot(kind='bar')\n",
                "plt.ylabel('Count')\n",
                "plt.xlabel('Class')\n",
                "plt.title('Before SMOTE')\n",
                "\n",
                "plt.subplot(132)\n",
                "pd.Series(Y_train_resampled).value_counts().plot(kind='bar')\n",
                "plt.ylabel('Count')\n",
                "plt.xlabel('Class')\n",
                "plt.title('After SMOTE')\n",
                "\n",
                "\n",
                "plt.subplot(133)\n",
                "Y_test.value_counts().plot(kind='bar')\n",
                "plt.ylabel('Count')\n",
                "plt.xlabel('Class')\n",
                "plt.title('TEST SET')\n"
            ]
        },
        {
            "cell_type": "code",
            "execution_count": 279,
            "metadata": {},
            "outputs": [
                {
                    "name": "stdout",
                    "output_type": "stream",
                    "text": [
                        "Original training set shape: (7994, 13)\n",
                        "Resampled training set shape: (12668, 13)\n",
                        "\n",
                        "Class balance achieved: 50.0% positive class\n"
                    ]
                }
            ],
            "source": [
                "# Convert resampled data back to DataFrames for easier handling\n",
                "X_train_resampled_df = pd.DataFrame(X_train_resampled, columns=X_train.columns)\n",
                "Y_train_resampled_df = pd.Series(Y_train_resampled, name='Exited')\n",
                "\n",
                "print(f\"Original training set shape: {X_train.shape}\")\n",
                "print(f\"Resampled training set shape: {X_train_resampled_df.shape}\")\n",
                "print(f\"\\nClass balance achieved: {(Y_train_resampled_df.value_counts()[1] / len(Y_train_resampled_df) * 100):.1f}% positive class\")"
            ]
        },
        {
            "cell_type": "code",
            "execution_count": 280,
            "metadata": {},
            "outputs": [],
            "source": [
                "np.savez('artifacts/X_train.npz',X_train_resampled)\n",
                "np.savez('artifacts/T_train.npz',Y_train_resampled)\n",
                "np.savez('artifacts/X_test.npz',X_test)\n",
                "np.savez('artifacts/Y_test.npz',Y_test)\n"
            ]
        }
    ],
    "metadata": {
        "kernelspec": {
            "display_name": ".venv",
            "language": "python",
            "name": "python3"
        },
        "language_info": {
            "codemirror_mode": {
                "name": "ipython",
                "version": 3
            },
            "file_extension": ".py",
            "mimetype": "text/x-python",
            "name": "python",
            "nbconvert_exporter": "python",
            "pygments_lexer": "ipython3",
            "version": "3.11.9"
        }
    },
    "nbformat": 4,
    "nbformat_minor": 2
}
