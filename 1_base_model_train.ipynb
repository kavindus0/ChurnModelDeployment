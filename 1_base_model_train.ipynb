{
 "cells": [
  {
   "cell_type": "markdown",
   "metadata": {},
   "source": [
    "# Base Model Training: Logistic Regression"
   ]
  },
  {
   "cell_type": "markdown",
   "metadata": {},
   "source": [
    "## 1. Import Dependencies"
   ]
  },
  {
   "cell_type": "code",
   "execution_count": null,
   "metadata": {},
   "outputs": [],
   "source": [
    "import warnings\n",
    "import numpy as np\n",
    "import pandas as pd\n",
    "import seaborn as sns \n",
    "import matplotlib.pyplot as plt\n",
    "from sklearn.linear_model import LogisticRegression\n",
    "from sklearn.metrics import confusion_matrix, f1_score, accuracy_score, precision_score, recall_score\n",
    "\n",
    "warnings.filterwarnings('ignore')"
   ]
  },
  {
   "cell_type": "markdown",
   "metadata": {},
   "source": [
    "## 2. Introduction to Logistic Regression"
   ]
  },
  {
   "cell_type": "markdown",
   "metadata": {},
   "source": [
    "### Sigmoid Function\n",
    "\n",
    "The **sigmoid function** is used to map any real-valued number into the range (0, 1). It’s commonly used in logistic regression and neural networks.\n",
    "\n",
    "**Formula:**\n",
    "$$\n",
    "\\sigma(x) = \\frac{1}{1 + e^{-x}}\n",
    "$$\n",
    "\n",
    "**Derivative:**\n",
    "$$\n",
    "\\sigma'(x) = \\sigma(x) \\cdot (1 - \\sigma(x))\n",
    "$$\n",
    "\n",
    "**Properties:**\n",
    "- Output range: \\( (0, 1) \\)\n",
    "- Smooth and differentiable\n",
    "- S-shaped curve\n",
    "- Centered at \\( x = 0 \\): \\( \\sigma(0) = 0.5 \\)"
   ]
  },
  {
   "cell_type": "code",
   "execution_count": null,
   "metadata": {},
   "outputs": [],
   "source": [
    "def sigmoid_values(x):\n",
    "    return 1 / (1 + np.exp(-x))\n",
    "\n",
    "X_linespace = np.linspace(-10, 10, 1000)\n",
    "Y_hat = sigmoid_values(X_linespace)\n",
    "\n",
    "plt.figure(figsize=(8, 6))\n",
    "plt.plot(X_linespace, Y_hat)\n",
    "plt.xlabel('x (Input)')\n",
    "plt.ylabel('sigmoid(x) (Output)')\n",
    "plt.title('The Sigmoid Function')\n",
    "plt.grid(True)\n",
    "plt.show()"
   ]
  },
  {
   "cell_type": "markdown",
   "metadata": {},
   "source": [
    "## 3. Load Processed Data"
   ]
  },
  {
   "cell_type": "code",
   "execution_count": null,
   "metadata": {},
   "outputs": [],
   "source": [
    "X_train = np.load('artifacts/X_train.npz')['arr_0']\n",
    "Y_train = np.load('artifacts/Y_train.npz')['arr_0']\n",
    "X_test = np.load('artifacts/X_test.npz')['arr_0']\n",
    "Y_test = np.load('artifacts/Y_test.npz')['arr_0']\n",
    "\n",
    "print(\"Data loaded successfully from artifacts.\")\n",
    "print(f\"X_train shape: {X_train.shape}\")\n",
    "print(f\"Y_train shape: {Y_train.shape}\")\n",
    "print(f\"X_test shape: {X_test.shape}\")\n",
    "print(f\"Y_test shape: {Y_test.shape}\")"
   ]
  },
  {
   "cell_type": "markdown",
   "metadata": {},
   "source": [
    "## 4. Train Logistic Regression Model"
   ]
  },
  {
   "cell_type": "code",
   "execution_count": null,
   "metadata": {},
   "outputs": [],
   "source": [
    "model_lr = LogisticRegression(\n",
    "    random_state=42,\n",
    "    max_iter=1000\n",
    ")\n",
    "\n",
    "model_lr.fit(X_train, Y_train)\n",
    "print(\"Logistic Regression model trained successfully.\")"
   ]
  },
  {
   "cell_type": "markdown",
   "metadata": {},
   "source": [
    "## 5. Make Predictions"
   ]
  },
  {
   "cell_type": "code",
   "execution_count": null,
   "metadata": {},
   "outputs": [],
   "source": [
    "# Predictions on training and test sets\n",
    "Y_hat_train = model_lr.predict(X_train)\n",
    "Y_hat_test = model_lr.predict(X_test)\n",
    "\n",
    "# Probabilities for training and test sets\n",
    "Y_proba_train = model_lr.predict_proba(X_train)\n",
    "Y_proba_test = model_lr.predict_proba(X_test)\n",
    "\n",
    "print(\"Predictions generated for both training and test sets.\")"
   ]
  },
  {
   "cell_type": "markdown",
   "metadata": {},
   "source": [
    "## 6. Evaluate Model Performance"
   ]
  },
  {
   "cell_type": "markdown",
   "metadata": {},
   "source": [
    "### Metric Definitions:\n",
    "- **Accuracy**: Overall correctness of the model.\n",
    "- **Precision**: True Positives / (True Positives + False Positives). Measures the accuracy of positive predictions.\n",
    "- **Recall**: True Positives / (True Positives + False Negatives). Measures the ability of the model to find all the positive samples.\n",
    "- **F1-Score**: The harmonic mean of Precision and Recall. Provides a single score that balances both metrics."
   ]
  },
  {
   "cell_type": "code",
   "execution_count": null,
   "metadata": {},
   "outputs": [],
   "source": [
    "accuracy = accuracy_score(Y_test, Y_hat_test)\n",
    "precision = precision_score(Y_test, Y_hat_test)\n",
    "recall = recall_score(Y_test, Y_hat_test)\n",
    "f1 = f1_score(Y_test, Y_hat_test)\n",
    "\n",
    "print(\"--- Model Performance Metrics ---\")\n",
    "print(f\"| Metric    | Score   |\")\n",
    "print(f\"|-----------|---------|\")\n",
    "print(f\"| Accuracy  | {accuracy:.4f}  |\")\n",
    "print(f\"| Precision | {precision:.4f}  |\")\n",
    "print(f\"| Recall    | {recall:.4f}  |\")\n",
    "print(f\"| F1-Score  | {f1:.4f}  |\")\n",
    "print(\"---------------------------------\")"
   ]
  },
  {
   "cell_type": "markdown",
   "metadata": {},
   "source": [
    "### 6.1. Confusion Matrix"
   ]
  },
  {
   "cell_type": "code",
   "execution_count": null,
   "metadata": {},
   "outputs": [],
   "source": [
    "cm = confusion_matrix(Y_test, Y_hat_test)\n",
    "\n",
    "plt.figure(figsize=(8, 6))\n",
    "sns.heatmap(cm, annot=True, fmt='d', cmap='Blues', \n",
    "            xticklabels=['Not Churned', 'Churned'], \n",
    "            yticklabels=['Not Churned', 'Churned'])\n",
    "plt.xlabel('Predicted Label')\n",
    "plt.ylabel('Actual Label')\n",
    "plt.title('Confusion Matrix for Test Set')\n",
    "plt.show()"
   ]
  }
 ],
 "metadata": {
  "kernelspec": {
   "display_name": "Python 3",
   "language": "python",
   "name": "python3"
  },
  "language_info": {
   "codemirror_mode": {
    "name": "ipython",
    "version": 3
   },
   "file_extension": ".py",
   "mimetype": "text/x-python",
   "name": "python",
   "nbconvert_exporter": "python",
   "pygments_lexer": "ipython3",
   "version": "3.9.7"
  }
 },
 "nbformat": 4,
 "nbformat_minor": 4
}
