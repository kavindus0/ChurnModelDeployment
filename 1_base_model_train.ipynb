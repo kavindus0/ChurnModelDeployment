{
 "cells": [
  {
   "cell_type": "markdown",
   "metadata": {},
   "source": [
    "# Step 1: Base Model Training"
   ]
  },
  {
   "cell_type": "markdown",
   "metadata": {},
   "source": [
    "## 1. Import Dependencies\n",
    "\n",
    "Let's start by importing the necessary tools for our training process."
   ]
  },
  {
   "cell_type": "code",
   "execution_count": 109,
   "metadata": {},
   "outputs": [],
   "source": [
    "import warnings\n",
    "import numpy as np\n",
    "import pandas as pd\n",
    "import seaborn as sns \n",
    "import matplotlib.pyplot as plt\n",
    "from sklearn.linear_model import LogisticRegression\n",
    "from sklearn.metrics import confusion_matrix, f1_score, accuracy_score, precision_score, recall_score\n",
    "\n",
    "warnings.filterwarnings('ignore')"
   ]
  },
  {
   "cell_type": "markdown",
   "metadata": {},
   "source": [
    "## 2. Load Processed Data\n",
    "\n",
    "We'll load the clean and balanced data we prepared in the previous step."
   ]
  },
  {
   "cell_type": "code",
   "execution_count": 110,
   "metadata": {},
   "outputs": [
    {
     "name": "stdout",
     "output_type": "stream",
     "text": [
      "Data loaded successfully from artifacts.\n"
     ]
    }
   ],
   "source": [
    "X_train = np.load('artifacts/X_train.npz')['arr_0']\n",
    "Y_train = np.load('artifacts/Y_train.npz')['arr_0']\n",
    "X_test = np.load('artifacts/X_test.npz')['arr_0']\n",
    "Y_test = np.load('artifacts/Y_test.npz')['arr_0']\n",
    "\n",
    "print(\"Data loaded successfully from artifacts.\")"
   ]
  },
  {
   "cell_type": "markdown",
   "metadata": {},
   "source": [
    "## 3. Train Logistic Regression Model\n",
    "\n",
    "We will train a simple **Logistic Regression** model. This will be our baseline to see how well a basic model performs.\n",
    "\n",
    "### Mnemonic: **T-P-E** (Train, Predict, Evaluate)\n",
    "*   **T** - **Train** the model using our training data.\n",
    "*   **P** - **Predict** the outcomes for the test data.\n",
    "*   **E** - **Evaluate** how well the model performed."
   ]
  },
  {
   "cell_type": "code",
   "execution_count": 111,
   "metadata": {},
   "outputs": [
    {
     "name": "stdout",
     "output_type": "stream",
     "text": [
      "Logistic Regression model trained successfully.\n"
     ]
    }
   ],
   "source": [
    "model_lr = LogisticRegression(\n",
    "    random_state=42,\n",
    "    max_iter=1000\n",
    ")\n",
    "\n",
    "model_lr.fit(X_train, Y_train)\n",
    "print(\"Logistic Regression model trained successfully.\")"
   ]
  },
  {
   "cell_type": "markdown",
   "metadata": {},
   "source": [
    "## 4. Make Predictions\n",
    "\n",
    "Now, let's use our trained model to make predictions on the test set."
   ]
  },
  {
   "cell_type": "code",
   "execution_count": 112,
   "metadata": {},
   "outputs": [
    {
     "name": "stdout",
     "output_type": "stream",
     "text": [
      "Predictions generated for the test set.\n"
     ]
    }
   ],
   "source": [
    "Y_hat_test = model_lr.predict(X_test)\n",
    "print(\"Predictions generated for the test set.\")"
   ]
  },
  {
   "cell_type": "markdown",
   "metadata": {},
   "source": [
    "## 5. Evaluate Model Performance\n",
    "\n",
    "Let's see how our model did. We will look at a few key metrics:\n",
    "*   **Accuracy**: How often the model is correct overall.\n",
    "*   **Precision**: When the model predicts \"Churn\", how often is it right?\n",
    "*   **Recall**: Of all the customers who actually churned, how many did the model find?\n",
    "*   **F1-Score**: A single score that balances Precision and Recall."
   ]
  },
  {
   "cell_type": "code",
   "execution_count": 113,
   "metadata": {},
   "outputs": [
    {
     "name": "stdout",
     "output_type": "stream",
     "text": [
      "--- Model Performance Metrics ---\n",
      "| Metric    | Score   |\n",
      "|-----------|---------|\n",
      "| Accuracy  | 0.6948  |\n",
      "| Precision | 0.3423  |\n",
      "| Recall    | 0.6755  |\n",
      "| F1-Score  | 0.4544  |\n",
      "---------------------------------\n"
     ]
    }
   ],
   "source": [
    "accuracy = accuracy_score(Y_test, Y_hat_test)\n",
    "precision = precision_score(Y_test, Y_hat_test)\n",
    "recall = recall_score(Y_test, Y_hat_test)\n",
    "f1 = f1_score(Y_test, Y_hat_test)\n",
    "\n",
    "print(\"--- Model Performance Metrics ---\")\n",
    "print(f\"| Metric    | Score   |\")\n",
    "print(f\"|-----------|---------|\")\n",
    "print(f\"| Accuracy  | {accuracy:.4f}  |\")\n",
    "print(f\"| Precision | {precision:.4f}  |\")\n",
    "print(f\"| Recall    | {recall:.4f}  |\")\n",
    "print(f\"| F1-Score  | {f1:.4f}  |\")\n",
    "print(\"---------------------------------\")"
   ]
  },
  {
   "cell_type": "markdown",
   "metadata": {},
   "source": [
    "### 5.1. Confusion Matrix\n",
    "\n",
    "The **Confusion Matrix** gives us a visual breakdown of our model's predictions."
   ]
  },
  {
   "cell_type": "code",
   "execution_count": 114,
   "metadata": {},
   "outputs": [
    {
     "data": {
      "image/png": "[encoded data removed]",
      "text/plain": [
       "<Figure size 800x600 with 2 Axes>"
      ]
     },
     "metadata": {},
     "output_type": "display_data"
    }
   ],
   "source": [
    "cm = confusion_matrix(Y_test, Y_hat_test)\n",
    "\n",
    "plt.figure(figsize=(8, 6))\n",
    "sns.heatmap(cm, annot=True, fmt='d', cmap='Blues', \n",
    "            xticklabels=['Not Churned', 'Churned'], \n",
    "            yticklabels=['Not Churned', 'Churned'])\n",
    "plt.xlabel('Predicted Label')\n",
    "plt.ylabel('Actual Label')\n",
    "plt.title('Confusion Matrix for Test Set')\n",
    "plt.show()"
   ]
  }
 ],
 "metadata": {
  "kernelspec": {
   "display_name": ".venv",
   "language": "python",
   "name": "python3"
  },
  "language_info": {
   "codemirror_mode": {
    "name": "ipython",
    "version": 3
   },
   "file_extension": ".py",
   "mimetype": "text/x-python",
   "name": "python",
   "nbconvert_exporter": "python",
   "pygments_lexer": "ipython3",
   "version": "3.11.9"
  }
 },
 "nbformat": 4,
 "nbformat_minor": 4
}
