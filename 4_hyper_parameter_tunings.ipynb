{
    "cells": [
        {
            "cell_type": "markdown",
            "metadata": {},
            "source": [
                "# Hyperparameter Tuning with GridSearchCV"
            ]
        },
        {
            "cell_type": "markdown",
            "metadata": {},
            "source": [
                "## 1. Import Dependencies"
            ]
        },
        {
            "cell_type": "code",
            "execution_count": 123,
            "metadata": {},
            "outputs": [],
            "source": [
                "import joblib\n",
                "import warnings\n",
                "import numpy as np\n",
                "import pandas as pd\n",
                "import seaborn as sns\n",
                "import matplotlib.pyplot as plt\n",
                "from sklearn.ensemble import RandomForestClassifier\n",
                "from sklearn.linear_model import LogisticRegression\n",
                "from sklearn.model_selection import StratifiedKFold, GridSearchCV\n",
                "from sklearn.tree import DecisionTreeClassifier, DecisionTreeRegressor\n",
                "from sklearn.model_selection import train_test_split\n",
                "from sklearn.metrics import accuracy_score, classification_report\n",
                "import matplotlib.pyplot as plt\n",
                "import pandas as pd\n",
                "from sklearn.metrics import confusion_matrix, f1_score, accuracy_score\n",
                "\n",
                "warnings.filterwarnings('ignore')"
            ]
        },
        {
            "cell_type": "markdown",
            "metadata": {},
            "source": [
                "## 2. Load Processed Data"
            ]
        },
        {
            "cell_type": "code",
            "execution_count": 124,
            "metadata": {},
            "outputs": [
                {
                    "name": "stdout",
                    "output_type": "stream",
                    "text": [
                        "Data loaded successfully from artifacts.\n"
                    ]
                }
            ],
            "source": [
                "X_train = np.load('artifacts/X_train.npz')['arr_0']\n",
                "Y_train = np.load('artifacts/Y_train.npz')['arr_0']\n",
                "X_test = np.load('artifacts/X_test.npz')['arr_0']\n",
                "Y_test = np.load('artifacts/Y_test.npz')['arr_0']\n",
                "\n",
                "print(\"Data loaded successfully from artifacts.\")"
            ]
        },
        {
            "cell_type": "markdown",
            "metadata": {},
            "source": [
                "## 3. Hyperparameter Tuning for RandomForestClassifier"
            ]
        },
        {
            "cell_type": "code",
            "execution_count": 125,
            "metadata": {},
            "outputs": [],
            "source": [
                "## if LR model\n",
                "\n",
                "lr_param_grid = {\n",
                "    'max_iter':[1000,5000,100000]\n",
                "}\n",
                "\n",
                "# 3 models trained in LR\n",
                "\n",
                "#if DT model\n",
                "dt_param_grid = {\n",
                "    'max_depth':[8,16,12,20],\n",
                "    'criterion':[\"gini\",\"entropy\",\"log_loss\"]\n",
                "}\n",
                "# (4x4=16) models trained in LR"
            ]
        },
        {
            "cell_type": "markdown",
            "metadata": {},
            "source": [
                "We will use **GridSearchCV** to find the optimal hyperparameters for the `RandomForestClassifier`."
            ]
        },
        {
            "cell_type": "code",
            "execution_count": 126,
            "metadata": {},
            "outputs": [
                {
                    "name": "stdout",
                    "output_type": "stream",
                    "text": [
                        "Starting GridSearchCV for Logistic Regression...\n",
                        "Fitting GridSearchCV for Logistic Regression...\n",
                        "Fitting 6 folds for each of 3 candidates, totalling 18 fits\n",
                        "Logistic Regression GridSearchCV completed....\n",
                        "{'max_iter': 1000} Best Parameters....\n",
                        "0.7193121063357041 Besct CV Score....\n",
                        "\n",
                        "Starting GridSearchCV for Decision Tree...\n",
                        "Fitting GridSearchCV for Decision Tree...\n",
                        "Fitting 6 folds for each of 12 candidates, totalling 72 fits\n",
                        "Decision Tree GridSearchCV completed....\n",
                        "{'criterion': 'entropy', 'max_depth': 20} Best Parameters....\n",
                        "0.8534707240999255 Besct CV Score....\n",
                        "\n",
                        "Starting GridSearchCV for Random Forest...\n",
                        "Fitting GridSearchCV for Random Forest...\n",
                        "Fitting 6 folds for each of 48 candidates, totalling 288 fits\n",
                        "Random Forest GridSearchCV completed....\n",
                        "{'criterion': 'gini', 'max_depth': 20, 'n_estimators': 300} Best Parameters....\n",
                        "0.9081753576757089 Besct CV Score....\n",
                        "\n"
                    ]
                }
            ],
            "source": [
                "rf_param_grid = {\n",
                "    # (4x4x4x3x3=576) models trained in LR with all\n",
                "    # nest x max x criter = 64 models\n",
                "    'n_estimators': [100,50, 200, 300],\n",
                "    'max_depth': [8, 12, 16, 20],\n",
                "    'criterion':[\"gini\",\"entropy\",\"log_loss\"],\n",
                "   # 'min_samples_split': [2, 5, 10],\n",
                "    #'min_samples_leaf': [1, 2, 4]\n",
                "}\n",
                "\n",
                "param_grid = {\n",
                "    'Logistic Regression': lr_param_grid,\n",
                "    'Decision Tree': dt_param_grid,\n",
                "    'Random Forest': rf_param_grid\n",
                "}\n",
                "\n",
                "\n",
                "models = {\n",
                "    'Logistic Regression': LogisticRegression(),\n",
                "\n",
                "    'Decision Tree': DecisionTreeClassifier(),\n",
                "    'Random Forest': RandomForestClassifier()\n",
                "}\n",
                "\n",
                "cv = StratifiedKFold(\n",
                "    n_splits=6,  # Using 6 splits for a more robust evaluation\n",
                "    random_state=42,\n",
                "    shuffle=True\n",
                ")\n",
                "\n",
                "rf = RandomForestClassifier(random_state=42)\n",
                "grid_search_results = {}\n",
                "\n",
                "for model_name,model in models.items():\n",
                "\n",
                "    print(f\"Starting GridSearchCV for {model_name}...\")\n",
                "    current_param_grid = param_grid[model_name]\n",
                "\n",
                "    grid_search = GridSearchCV(\n",
                "            estimator=model, \n",
                "            param_grid=current_param_grid, \n",
                "            cv=cv, \n",
                "            n_jobs=-1, # Use all available cores\n",
                "            scoring='f1',\n",
                "            verbose=1,\n",
                "            return_train_score=False\n",
                "        )\n",
                "    print(f\"Fitting GridSearchCV for {model_name}...\")\n",
                "    grid_search.fit(X_train, Y_train)\n",
                "    grid_search_results[model_name] = grid_search\n",
                "    print(f\"{model_name} GridSearchCV completed....\")\n",
                "    print(f\"{grid_search.best_params_} Best Parameters....\")\n",
                "    print(f\"{grid_search.best_score_} Besct CV Score....\")\n",
                "    print(\"\")\n",
                "\n"
            ]
        },
        {
            "cell_type": "markdown",
            "metadata": {},
            "source": [
                "## 4. Best Model and Parameters"
            ]
        },
        {
            "cell_type": "code",
            "execution_count": 127,
            "metadata": {},
            "outputs": [
                {
                    "name": "stdout",
                    "output_type": "stream",
                    "text": [
                        "Best F1 Score from GridSearch: 0.9082\n",
                        "Best Parameters found:\n",
                        "{'criterion': 'gini', 'max_depth': 20, 'n_estimators': 300}\n"
                    ]
                }
            ],
            "source": [
                "print(f\"Best F1 Score from GridSearch: {grid_search.best_score_:.4f}\")\n",
                "print(\"Best Parameters found:\")\n",
                "print(grid_search.best_params_)\n",
                "\n",
                "best_rf_model = grid_search.best_estimator_"
            ]
        },
        {
            "cell_type": "markdown",
            "metadata": {},
            "source": [
                "## 5. Evaluate Best Model on Test Set"
            ]
        },
        {
            "cell_type": "code",
            "execution_count": 128,
            "metadata": {},
            "outputs": [
                {
                    "ename": "NameError",
                    "evalue": "name 'best_model' is not defined",
                    "output_type": "error",
                    "traceback": [
                        "\u001b[31m---------------------------------------------------------------------------\u001b[39m",
                        "\u001b[31mNameError\u001b[39m                                 Traceback (most recent call last)",
                        "\u001b[36mCell\u001b[39m\u001b[36m \u001b[39m\u001b[32mIn[128]\u001b[39m\u001b[32m, line 1\u001b[39m\n\u001b[32m----> \u001b[39m\u001b[32m1\u001b[39m Y_hat_test = \u001b[43mbest_model\u001b[49m.predict(X_test)\n\u001b[32m      2\u001b[39m test_accuracy = accuracy_score(Y_test, Y_hat_test)\n\u001b[32m      3\u001b[39m test_f1 = f1_score(Y_test, Y_hat_test)\n",
                        "\u001b[31mNameError\u001b[39m: name 'best_model' is not defined"
                    ]
                }
            ],
            "source": [
                "Y_hat_test = best_model.predict(X_test)\n",
                "test_accuracy = accuracy_score(Y_test, Y_hat_test)\n",
                "test_f1 = f1_score(Y_test, Y_hat_test)\n",
                "\n",
                "print(f\"--- Performance of Tuned RandomForest on Test Set ---\")\n",
                "print(f\"Accuracy: {test_accuracy:.4f}\")\n",
                "print(f\"F1 Score: {test_f1:.4f}\")"
            ]
        },
        {
            "cell_type": "markdown",
            "metadata": {},
            "source": [
                "### Confusion Matrix"
            ]
        },
        {
            "cell_type": "code",
            "execution_count": 23,
            "metadata": {},
            "outputs": [
                {
                    "data": {
                        "image/png": "[encoded data removed]",
                        "text/plain": [
                            "<Figure size 800x600 with 2 Axes>"
                        ]
                    },
                    "metadata": {},
                    "output_type": "display_data"
                }
            ],
            "source": [
                "cm = confusion_matrix(Y_test, Y_hat_test)\n",
                "\n",
                "plt.figure(figsize=(8, 6))\n",
                "sns.heatmap(cm, annot=True, fmt='d', cmap='Greens',\n",
                "            xticklabels=['Not Churned', 'Churned'],\n",
                "            yticklabels=['Not Churned', 'Churned'])\n",
                "plt.xlabel('Predicted Label')\n",
                "plt.ylabel('Actual Label')\n",
                "plt.title('Confusion Matrix for Tuned RandomForest')\n",
                "plt.show()"
            ]
        },
        {
            "cell_type": "markdown",
            "metadata": {},
            "source": [
                "## 6. Save the Tuned Model"
            ]
        },
        {
            "cell_type": "code",
            "execution_count": 24,
            "metadata": {},
            "outputs": [
                {
                    "name": "stdout",
                    "output_type": "stream",
                    "text": [
                        "Tuned RandomForest model saved to 'model/tuned_random_forest_model.pkl'.\n"
                    ]
                }
            ],
            "source": [
                "joblib.dump(best_rf_model, 'model/tuned_random_forest_model.pkl')\n",
                "print(\"Tuned RandomForest model saved to 'model/tuned_random_forest_model.pkl'.\")"
            ]
        },
        {
            "cell_type": "code",
            "execution_count": null,
            "metadata": {},
            "outputs": [],
            "source": []
        },
        {
            "cell_type": "code",
            "execution_count": null,
            "metadata": {},
            "outputs": [],
            "source": []
        },
        {
            "cell_type": "code",
            "execution_count": null,
            "metadata": {},
            "outputs": [],
            "source": []
        },
        {
            "cell_type": "code",
            "execution_count": null,
            "metadata": {},
            "outputs": [],
            "source": []
        }
    ],
    "metadata": {
        "kernelspec": {
            "display_name": ".venv",
            "language": "python",
            "name": "python3"
        },
        "language_info": {
            "codemirror_mode": {
                "name": "ipython",
                "version": 3
            },
            "file_extension": ".py",
            "mimetype": "text/x-python",
            "name": "python",
            "nbconvert_exporter": "python",
            "pygments_lexer": "ipython3",
            "version": "3.11.9"
        }
    },
    "nbformat": 4,
    "nbformat_minor": 4
}
