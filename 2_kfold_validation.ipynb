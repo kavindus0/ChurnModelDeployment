{
    "cells": [
        {
            "cell_type": "markdown",
            "metadata": {},
            "source": [
                "## K-Fold Cross Validation කියන්නේ Machine Learning models වල performance එක නිවැරදිව මැනීමට භාවිතා කරන ක්‍රමවේදයකි.\n",
                "\n",
                "## මූලික සංකල්පය\n",
                "\n",
                "🎯 **සරල අර්ථකථනය**: ඔබේ data set එක K කොටස් වලට බෙදලා, එක් කොටසක් testing සඳහාත්, ඉතිරි කොටස් training සඳහාත් භාවිතා කිරීම.\n",
                "\n",
                "## K-Fold Cross Validation වල පියවර\n",
                "\n",
                "### 1. Data විභාගය (Data Splitting)\n",
                "- සම්පූර්ණ dataset එක **K සමාන කොටස්** වලට බෙදන්න\n",
                "- සාමාන්‍යයෙන් K = 5 හෝ K = 10 භාවිතා කරනවා\n",
                "\n",
                "### 2. Training සහ Testing\n",
                "- **K වතාවක්** model එක train කරන්න\n",
                "- සෑම වතාවකම **වෙනස් කොටසක්** testing සඳහා භාවිතා කරන්න\n",
                "\n",
                "### 3. Performance ගණනය කිරීම\n",
                "- සෑම fold එකකම accuracy එක ගණනය කරන්න\n",
                "- **සාමාන්‍ය accuracy** එක ගණනය කරන්න\n",
                "\n",
                "## උදාහරණය - 5-Fold Cross Validation\n",
                "\n",
                "```\n",
                "Dataset: [A, B, C, D, E] (5 කොටස්)\n",
                "\n",
                "Fold 1: Train=[B,C,D,E], Test=[A]\n",
                "Fold 2: Train=[A,C,D,E], Test=[B]  \n",
                "Fold 3: Train=[A,B,D,E], Test=[C]\n",
                "Fold 4: Train=[A,B,C,E], Test=[D]\n",
                "Fold 5: Train=[A,B,C,D], Test=[E]\n",
                "```\n",
                "## විශේෂ වර්ග\n",
                "\n",
                "### 1. Stratified K-Fold\n",
                "```python\n",
                "from sklearn.model_selection import StratifiedKFold\n",
                "\n",
                "# Class distribution එක maintain කරන්න\n",
                "skfold = StratifiedKFold(n_splits=5, shuffle=True, random_state=42)\n",
                "scores = cross_val_score(model, X, y, cv=skfold)\n",
                "```\n",
                "\n",
                "### 2. Leave-One-Out (LOO)\n",
                "```python\n",
                "from sklearn.model_selection import LeaveOneOut\n",
                "\n",
                "# K = n (සියලුම samples)\n",
                "loo = LeaveOneOut()\n",
                "scores = cross_val_score(model, X, y, cv=loo)\n",
                "```\n",
                "\n",
                "## K-Fold CV වල වාසි\n",
                "\n",
                "✅ **Overfitting අවම කරයි**: සියලුම data points testing සඳහා භාවිතා වේ  \n",
                "✅ **Reliable results**: වඩා විශ්වසනීය performance metrics  \n",
                "✅ **Data efficiency**: සම්පූර්ණ dataset එකම training සහ testing සඳහා භාවිතා වේ  \n",
                "✅ **Variance අවම කරයි**: Multiple evaluations නිසා stable results  \n",
                "\n",
                "## අවාසි\n",
                "\n",
                "❌ **Computational cost**: K වතාවක් model train කරන්න ඕනේ  \n",
                "❌ **Time consuming**: විශාල datasets සඳහා කාලය ගතවේ  \n",
                "❌ **Memory usage**: Multiple models memory එකේ store කරන්න ඕනේ  \n",
                "\n",
                "## Mnemonics (මතක සටහන්)\n",
                "\n",
                "### \"KFOLD\" Mnemonic:\n",
                "- **K** - කොටස් කරන්න (Split into K parts)\n",
                "- **F** - සෑම Fold එකකම (For each Fold)  \n",
                "- **O** - එක් කොටසක් Outside (One part Outside for testing)\n",
                "- **L** - ඉතිරි කොටස් Learn (Rest Learn/Train)\n",
                "- **D** - ප්‍රතිඵල Determine කරන්න (Determine results)\n",
                "\n",
                "### \"TRAIN-TEST\" Pattern:\n",
                "```\n",
                "🚂 TRAIN → 🧪 TEST → 📊 SCORE\n",
                "   (4/5)     (1/5)      (Accuracy)\n",
                "```\n",
                "\n",
                "\n",
                "| ✅ **භාවිතා කරන්න** | ❌ **භාවිතා නොකරන්න** |\n",
                "|----------------------|-------------------------|\n",
                "| 📊 Small to medium datasets සඳහා | 💾 Very large datasets (computational cost) |\n",
                "| 🔄 Model comparison සඳහා | ⏰ Time series data (temporal order important) |\n",
                "| ⚙️ Hyperparameter tuning සඳහා | ⚖️ Highly imbalanced datasets (without stratification) |\n",
                "| 📈 Final model performance evaluate කරන්න | 🚀 Real-time applications (speed critical) |\n",
                "| 🎯 Model selection සඳහා | 🔒 Privacy-sensitive data (multiple copies) |\n",
                "| 📋 Research සහ experimentation | 💰 Limited computational resources |\n",
                "\n",
                "## Best Practices\n",
                "\n",
                "### 1. K Value තෝරන්න\n",
                "```python\n",
                "# Common choices\n",
                "k_values = [3, 5, 10]\n",
                "\n",
                "# Small datasets: k=5 හෝ k=10\n",
                "# Large datasets: k=3 හෝ k=5\n",
                "# Very small datasets: Leave-One-Out\n",
                "```\n",
                "\n",
                "### 2. Stratification භාවිතා කරන්න\n",
                "```python\n",
                "# Classification සඳහා\n",
                "from sklearn.model_selection import StratifiedKFold\n",
                "cv = StratifiedKFold(n_splits=5, shuffle=True, random_state=42)\n",
                "```\n",
                "\n",
                "### 3. Random State Set කරන්න\n",
                "```python\n",
                "# Reproducible results සඳහා\n",
                "kfold = KFold(n_splits=5, shuffle=True, random_state=42)\n",
                "```\n",
                "\n",
                "## සාරාංශය\n",
                "\n",
                "K-Fold Cross Validation යනු:\n",
                "- Model performance නිවැරදිව මැනීමේ ක්‍රමයක්\n",
                "- Data එක K කොටස් වලට බෙදීම\n",
                "- K වතාවක් train/test කිරීම  \n",
                "- Average performance ගණනය කිරීම\n",
                "\n",
                "**මතක තබා ගන්න**: \"විශ්වසනීය results සඳහා, data එක කොටස් කරලා multiple times test කරන්න!\"\n",
                "\n",
                "---\n",
                "\n",
                "**Tips**: \n",
                "- සුළු datasets සඳහා k=10 වඩා හොඳයි\n",
                "- විශාල datasets සඳහා k=5 ප්‍රමාණවත්\n",
                "- Class imbalance තිබේ නම් StratifiedKFold භාවිතා කරන්න"
            ]
        },
        {
            "cell_type": "code",
            "execution_count": 23,
            "metadata": {},
            "outputs": [],
            "source": [
                "import numpy as np \n",
                "import pandas as pd \n",
                "from sklearn.linear_model import LogisticRegression\n",
                "from sklearn.model_selection import (StratifiedKFold,cross_validate)"
            ]
        },
        {
            "cell_type": "code",
            "execution_count": 24,
            "metadata": {},
            "outputs": [],
            "source": [
                "X_train = np.load('artifacts/X_train.npz')['arr_0']\n",
                "Y_train = np.load('artifacts/Y_train.npz')['arr_0']\n",
                "X_test = np.load('artifacts/X_test.npz')['arr_0']\n",
                "Y_test = np.load('artifacts/Y_test.npz')['arr_0']"
            ]
        },
        {
            "cell_type": "markdown",
            "metadata": {},
            "source": [
                "KFold Config"
            ]
        },
        {
            "cell_type": "code",
            "execution_count": 25,
            "metadata": {},
            "outputs": [],
            "source": [
                "cv = StratifiedKFold(\n",
                "    n_splits=6,\n",
                "    random_state=42,\n",
                "    shuffle=True\n",
                ")"
            ]
        },
        {
            "cell_type": "code",
            "execution_count": 26,
            "metadata": {},
            "outputs": [],
            "source": [
                "model_lr = LogisticRegression(\n",
                "    random_state=42,\n",
                "    max_iter=1000\n",
                ")"
            ]
        },
        {
            "cell_type": "code",
            "execution_count": 27,
            "metadata": {},
            "outputs": [],
            "source": [
                "cv_results = cross_validate(\n",
                "    model_lr,\n",
                "    X_train,\n",
                "    Y_train,\n",
                "    cv=cv,\n",
                "    scoring='accuracy',\n",
                "    return_train_score=False\n",
                ")"
            ]
        },
        {
            "cell_type": "code",
            "execution_count": 28,
            "metadata": {},
            "outputs": [
                {
                    "data": {
                        "text/plain": [
                            "{'fit_time': array([0.01546907, 0.00885987, 0.00658202, 0.00582075, 0.00592518,\n",
                            "        0.00676703]),\n",
                            " 'score_time': array([0.00073791, 0.00103402, 0.00029206, 0.00029516, 0.0002749 ,\n",
                            "        0.00033998]),\n",
                            " 'test_score': array([0.72443182, 0.70123106, 0.70251066, 0.73140692, 0.7200379 ,\n",
                            "        0.72856466])}"
                        ]
                    },
                    "execution_count": 28,
                    "metadata": {},
                    "output_type": "execute_result"
                }
            ],
            "source": [
                "cv_results"
            ]
        },
        {
            "cell_type": "code",
            "execution_count": 37,
            "metadata": {},
            "outputs": [
                {
                    "name": "stdout",
                    "output_type": "stream",
                    "text": [
                        "accuracy\t\t0.7180305019044063\n",
                        "precision\t\t0.7163041550573662\n",
                        "recall\t\t0.7224515594331945\n",
                        "f1\t\t0.7193121063357041\n"
                    ]
                }
            ],
            "source": [
                "score_metrics = ['accuracy', 'precision', 'recall', 'f1']\n",
                "print("Metric\\t\\tAverage Score")
print("-" * 30)

for metric in score_metrics:\n","    cv_results = cross_validate(\n","        model_lr,\n","        X_train,\n","        Y_train,\n","        cv=cv,\n","        scoring=metric,\n",
                "        return_train_score=False\n",
                "        )\n",
                "    test_scores = cv_results['test_score']\n",
                "    avg_score = np.mean(test_scores)\n",
                "\n",
                "\n",
                "    print(f'{metric:<12}\\t{avg_score:.4f}')\n",
                "\n"
            ]
        },
        {
            "cell_type": "code",
            "execution_count": null,
            "metadata": {},
            "outputs": [],
            "source": []
        }
    ],
    "metadata": {
        "kernelspec": {
            "display_name": ".venv",
            "language": "python",
            "name": "python3"
        },
        "language_info": {
            "codemirror_mode": {
                "name": "ipython",
                "version": 3
            },
            "file_extension": ".py",
            "mimetype": "text/x-python",
            "name": "python",
            "nbconvert_exporter": "python",
            "pygments_lexer": "ipython3",
            "version": "3.11.9"
        }
    },
    "nbformat": 4,
    "nbformat_minor": 2
}