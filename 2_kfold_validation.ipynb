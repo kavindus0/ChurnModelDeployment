{
 "cells": [
  {
   "cell_type": "markdown",
   "metadata": {},
   "source": [
    "# Step 2: K-Fold Cross-Validation"
   ]
  },
  {
   "cell_type": "markdown",
   "metadata": {},
   "source": [
    "## What is K-Fold Cross-Validation?\n",
    "\n",
    "It's a technique to test our model robustly. Instead of one train/test split, we do multiple splits to get a more reliable performance score.\n",
    "\n",
    "### How it Works:\n",
    "1.  **Split**: We split our training data into 'K' equal parts (or 'folds'). A common choice for K is 5 or 10.\n",
    "2.  **Train & Test**: We train the model K times. Each time, we use one fold for testing and the remaining K-1 folds for training.\n",
    "3.  **Average Score**: We calculate the performance score for each round and then take the average. This gives us a much more stable evaluation of our model.\n",
    "\n",
    "### Mnemonic: **KFOLD**\n",
    "*   **K** - **K** parts to split the data into.\n",
    "*   **F** - **For** each part...\n",
    "*   **O** - **One** part is for testing.\n",
    "*   **L** - **Leftover** parts are for training.\n",
    "*   **D** - **Determine** the average score."
   ]
  },
  {
   "cell_type": "markdown",
   "metadata": {},
   "source": [
    "## 1. Import Dependencies"
   ]
  },
  {
   "cell_type": "code",
   "execution_count": null,
   "metadata": {},
   "outputs": [],
   "source": [
    "import numpy as np \n",
    "import pandas as pd \n",
    "import matplotlib.pyplot as plt\n",
    "import seaborn as sns\n",
    "from sklearn.linear_model import LogisticRegression\n",
    "from sklearn.model_selection import StratifiedKFold, cross_validate\n",
    "from sklearn.metrics import confusion_matrix, f1_score, recall_score, precision_score, accuracy_score"
   ]
  },
  {
   "cell_type": "markdown",
   "metadata": {},
   "source": [
    "## 2. Load Processed Data"
   ]
  },
  {
   "cell_type": "code",
   "execution_count": null,
   "metadata": {},
   "outputs": [],
   "source": [
    "X_train = np.load('artifacts/X_train.npz')['arr_0']\n",
    "Y_train = np.load('artifacts/Y_train.npz')['arr_0']\n",
    "X_test = np.load('artifacts/X_test.npz')['arr_0']\n",
    "Y_test = np.load('artifacts/Y_test.npz')['arr_0']\n",
    "\n",
    "print(\"Data loaded successfully from artifacts.\")"
   ]
  },
  {
   "cell_type": "markdown",
   "metadata": {},
   "source": [
    "## 3. K-Fold Cross-Validation Setup\n",
    "\n",
    "We will use **StratifiedKFold**. This is a special type of K-Fold that makes sure each 'fold' has the same percentage of 'Churn' and 'Not Churn' samples as the whole dataset. It's very important for imbalanced data like ours."
   ]
  },
  {
   "cell_type": "code",
   "execution_count": null,
   "metadata": {},
   "outputs": [],
   "source": [
    "cv = StratifiedKFold(\n",
    "    n_splits=6,\n",
    "    random_state=42,\n",
    "    shuffle=True\n",
    ")\n",
    "\n",
    "model_lr = LogisticRegression(\n",
    "    random_state=42,\n",
    "    max_iter=1000\n",
    ")"
   ]
  },
  {
   "cell_type": "markdown",
   "metadata": {},
   "source": [
    "## 4. Perform Cross-Validation and Evaluate\n",
    "\n",
    "Let's run the cross-validation process for different scoring metrics."
   ]
  },
  {
   "cell_type": "code",
   "execution_count": null,
   "metadata": {},
   "outputs": [],
   "source": [
    "score_metrics = ['accuracy', 'precision', 'recall', 'f1']\n",
    "results = {}\n",
    "\n",
    "for s in score_metrics:\n",
    "    cv_results = cross_validate(\n",
    "        model_lr,\n",
    "        X_train,\n",
    "        Y_train,\n",
    "        cv=cv,\n",
    "        scoring=s\n",
    "    )\n",
    "    results[s] = cv_results['test_score']\n",
    "\n",
    "print(\"--- Average Cross-Validation Metrics ---\")\n",
    "results_df = pd.DataFrame(results).mean().to_frame('Average Score')\n",
    "display(results_df.style.format('{:.4f}').background_gradient(cmap='viridis'))"
   ]
  },
  {
   "cell_type": "markdown",
   "metadata": {},
   "source": [
    "## 5. Train Final Model and Evaluate on Test Set\n",
    "\n",
    "Cross-validation gives us confidence in our model. Now, we train the model on the **entire training set** and make our final evaluation on the **unseen test set**."
   ]
  },
  {
   "cell_type": "code",
   "execution_count": null,
   "metadata": {},
   "outputs": [],
   "source": [
    "# Train the final model on the full training data\n",
    "final_model = LogisticRegression(\n",
    "    random_state=42,\n",
    "    max_iter=1000\n",
    ")\n",
    "final_model.fit(X_train, Y_train)\n",
    "\n",
    "# Make predictions on the test set\n",
    "Y_hat_test = final_model.predict(X_test)"
   ]
  },
  {
   "cell_type": "code",
   "execution_count": null,
   "metadata": {},
   "outputs": [],
   "source": [
    "accuracy = accuracy_score(Y_test, Y_hat_test)\n",
    "precision = precision_score(Y_test, Y_hat_test)\n",
    "recall = recall_score(Y_test, Y_hat_test)\n",
    "f1 = f1_score(Y_test, Y_hat_test)\n",
    "\n",
    "print(\"--- Final Model Performance on Test Set ---\")\n",
    "print(f\"| Metric    | Score   |\")\n",
    "print(f\"|-----------|---------|\")\n",
    "print(f\"| Accuracy  | {accuracy:.4f}  |\")\n",
    "print(f\"| Precision | {precision:.4f}  |\")\n",
    "print(f\"| Recall    | {recall:.4f}  |\")\n",
    "print(f\"| F1-Score  | {f1:.4f}  |\")\n",
    "print(\"---------------------------------\")\n",
    "\n",
    "# Display the confusion matrix\n",
    "cm = confusion_matrix(Y_test, Y_hat_test)\n",
    "plt.figure(figsize=(8, 6))\n",
    "sns.heatmap(cm, annot=True, fmt='d', cmap='Blues', \n",
    "            xticklabels=['Not Churned', 'Churned'], \n",
    "            yticklabels=['Not Churned', 'Churned'])\n",
    "plt.xlabel('Predicted Label')\n",
    "plt.ylabel('Actual Label')\n",
    "plt.title('Confusion Matrix for Test Set')\n",
    "plt.show()"
   ]
  }
 ],
 "metadata": {
  "kernelspec": {
   "display_name": ".venv",
   "language": "python",
   "name": "python3"
  },
  "language_info": {
   "codemirror_mode": {
    "name": "ipython",
    "version": 3
   },
   "file_extension": ".py",
   "mimetype": "text/x-python",
   "name": "python",
   "nbconvert_exporter": "python",
   "pygments_lexer": "ipython3",
   "version": "3.11.9"
  }
 },
 "nbformat": 4,
 "nbformat_minor": 4
}
